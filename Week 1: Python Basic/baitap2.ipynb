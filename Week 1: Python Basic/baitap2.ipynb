{
 "cells": [
  {
   "cell_type": "markdown",
   "metadata": {},
   "source": [
    "Câu:1"
   ]
  },
  {
   "cell_type": "code",
   "execution_count": 1,
   "metadata": {},
   "outputs": [
    {
     "name": "stdout",
     "output_type": "stream",
     "text": [
      "Xin chào, Đỗ Quốc BẢo\n"
     ]
    }
   ],
   "source": [
    "#1. Nhập và in tên người dùng\n",
    "name = input(\"Nhập tên của bạn:\")\n",
    "print(\"Xin chào,\", name)"
   ]
  },
  {
   "cell_type": "markdown",
   "metadata": {},
   "source": [
    "Câu:2"
   ]
  },
  {
   "cell_type": "code",
   "execution_count": 3,
   "metadata": {},
   "outputs": [
    {
     "name": "stdout",
     "output_type": "stream",
     "text": [
      "Tổng là: 3\n"
     ]
    }
   ],
   "source": [
    "#2. Tính tổng hai số\n",
    "a = int(input(\"Nhập số thứ nhất: \"))\n",
    "b = int(input(\"Nhập số thứ hai: \"))\n",
    "print(\"Tổng là:\", a + b)"
   ]
  },
  {
   "cell_type": "markdown",
   "metadata": {},
   "source": [
    "Câu:3"
   ]
  },
  {
   "cell_type": "code",
   "execution_count": 4,
   "metadata": {},
   "outputs": [
    {
     "name": "stdout",
     "output_type": "stream",
     "text": [
      "Chu vi là: 6.0\n"
     ]
    }
   ],
   "source": [
    "#3. Tính chu vi Hình Chữ Nhật\n",
    "chieu_dai = float(input(\"Nhập chiều dài: \"))\n",
    "chieu_rong = float(input(\"Nhập chiều rộng: \"))\n",
    "print(\"Chu vi là:\", 2 * (chieu_dai + chieu_rong))"
   ]
  },
  {
   "cell_type": "markdown",
   "metadata": {},
   "source": [
    "Câu:4"
   ]
  },
  {
   "cell_type": "code",
   "execution_count": 5,
   "metadata": {},
   "outputs": [
    {
     "name": "stdout",
     "output_type": "stream",
     "text": [
      "Diện tích là: 1.0\n"
     ]
    }
   ],
   "source": [
    "#4. Tính Diện tích Tam Giác\n",
    "day = float(input(\"Nhập độ dài đáy: \"))\n",
    "chieu_cao = float(input(\"Nhập chiều cao: \"))\n",
    "print(\"Diện tích là:\", 0.5 * day * chieu_cao)"
   ]
  },
  {
   "cell_type": "markdown",
   "metadata": {},
   "source": [
    "Câu:5"
   ]
  },
  {
   "cell_type": "code",
   "execution_count": 6,
   "metadata": {},
   "outputs": [
    {
     "name": "stdout",
     "output_type": "stream",
     "text": [
      "2 mũ 5 là: 32\n"
     ]
    }
   ],
   "source": [
    "#5. Tính 2 mũ 5\n",
    "print(\"2 mũ 5 là:\", 2 ** 5)"
   ]
  }
 ],
 "metadata": {
  "kernelspec": {
   "display_name": "Python 3",
   "language": "python",
   "name": "python3"
  },
  "language_info": {
   "codemirror_mode": {
    "name": "ipython",
    "version": 3
   },
   "file_extension": ".py",
   "mimetype": "text/x-python",
   "name": "python",
   "nbconvert_exporter": "python",
   "pygments_lexer": "ipython3",
   "version": "3.8.5"
  }
 },
 "nbformat": 4,
 "nbformat_minor": 2
}
