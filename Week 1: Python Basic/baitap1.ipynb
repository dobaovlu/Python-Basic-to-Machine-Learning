{
 "cells": [
  {
   "cell_type": "code",
   "execution_count": 2,
   "metadata": {},
   "outputs": [
    {
     "name": "stdout",
     "output_type": "stream",
     "text": [
      "hello, bao\n"
     ]
    }
   ],
   "source": [
    "name = input(\"Nhap ten cua ban:\")\n",
    "print(\"hello,\", name)"
   ]
  },
  {
   "cell_type": "code",
   "execution_count": 3,
   "metadata": {},
   "outputs": [
    {
     "name": "stdout",
     "output_type": "stream",
     "text": [
      "4\n"
     ]
    }
   ],
   "source": [
    "a= 1\n",
    "b= 3\n",
    "c= a+ b\n",
    "print(c)"
   ]
  },
  {
   "cell_type": "code",
   "execution_count": 4,
   "metadata": {},
   "outputs": [
    {
     "name": "stdout",
     "output_type": "stream",
     "text": [
      "chu vi: 6\n"
     ]
    }
   ],
   "source": [
    "dai = 1\n",
    "rong = 2\n",
    "chu_vi = 2 * (dai + rong)\n",
    "print(\"chu vi:\", chu_vi)"
   ]
  },
  {
   "cell_type": "code",
   "execution_count": 5,
   "metadata": {},
   "outputs": [
    {
     "name": "stdout",
     "output_type": "stream",
     "text": [
      " dien tich 1.0\n"
     ]
    }
   ],
   "source": [
    "dai = 1\n",
    "canh = 2\n",
    "dien_tich = 0.5 * dai * canh\n",
    "print(\" dien tich\", dien_tich)"
   ]
  },
  {
   "cell_type": "code",
   "execution_count": 6,
   "metadata": {},
   "outputs": [
    {
     "name": "stdout",
     "output_type": "stream",
     "text": [
      "32\n"
     ]
    }
   ],
   "source": [
    "print(2 ** 5)"
   ]
  },
  {
   "cell_type": "code",
   "execution_count": 7,
   "metadata": {},
   "outputs": [
    {
     "name": "stdout",
     "output_type": "stream",
     "text": [
      "1 1\n"
     ]
    }
   ],
   "source": [
    "num =int(input(\"1\"))\n",
    "if num % 2 == 0:\n",
    "        print(f\"{num} 2\")\n",
    "else:\n",
    "     print(f\"{num} 1\")\n"
   ]
  },
  {
   "cell_type": "code",
   "execution_count": 8,
   "metadata": {},
   "outputs": [
    {
     "name": "stdout",
     "output_type": "stream",
     "text": [
      "Xếp loại: Giỏi\n"
     ]
    }
   ],
   "source": [
    "diem =float(input(\"Nhập điểm: \"))\n",
    "if diem >= 8.0:\n",
    "    print(\"Xếp loại: Giỏi\")\n",
    "elif diem >= 6.5:\n",
    "    print(\"Xếp loại: Khá\")\n",
    "elif diem >= 5.0:\n",
    "    print(\"Xếp loại: Trung Bình\")\n",
    "else:\n",
    "    print(\"Xếp loại: Yếu\")"
   ]
  },
  {
   "cell_type": "code",
   "execution_count": 24,
   "metadata": {},
   "outputs": [
    {
     "name": "stdout",
     "output_type": "stream",
     "text": [
      "Phương trình vô nghiệm\n"
     ]
    }
   ],
   "source": [
    "import math\n",
    "\n",
    "a =float(input(\"hệ số a: 1\"))\n",
    "b =float(input(\"hệ số b: 2\"))\n",
    "c =float(input(\"hệ số c: 3\"))\n",
    "\n",
    "delta = b**2 - 4*a*c\n",
    "\n",
    "if delta < 0:\n",
    "    print(\"Phương trình vô nghiệm\")\n",
    "elif delta == 0:\n",
    "    x = -b / (2*a)\n",
    "    print(\"Phương trình có nghiệm kép:\", x)\n",
    "else:\n",
    "    x1 = (-b + math.sqrt(delta)) / (2*a)\n",
    "    x2 = (-b - math.sqrt(delta)) / (2*a)\n",
    "    print(\"Phương trình có hai nghiệm phân biệt:\")\n",
    "    print(\"x1 =\", x1)\n",
    "    print(\"x2 =\", x2)"
   ]
  },
  {
   "cell_type": "code",
   "execution_count": 28,
   "metadata": {},
   "outputs": [
    {
     "name": "stdout",
     "output_type": "stream",
     "text": [
      "Nhiệt độ tương ứng (°F): 77.0\n"
     ]
    }
   ],
   "source": [
    "\n",
    "doc = float(input(\"Nhập nhiệt độ (°C): \"))\n",
    "dof = (doc * 9/5) + 32\n",
    "print(f\"Nhiệt độ tương ứng (°F): {dof}\")"
   ]
  },
  {
   "cell_type": "code",
   "execution_count": 29,
   "metadata": {},
   "outputs": [
    {
     "name": "stdout",
     "output_type": "stream",
     "text": [
      "'V' có trong 'VanLang': True\n"
     ]
    }
   ],
   "source": [
    "string = \"VanLang\"\n",
    "result = \"V\" in string\n",
    "print(\"'V' có trong 'VanLang':\", result)"
   ]
  },
  {
   "cell_type": "code",
   "execution_count": 33,
   "metadata": {},
   "outputs": [
    {
     "name": "stdout",
     "output_type": "stream",
     "text": [
      "1 2 "
     ]
    }
   ],
   "source": [
    "n =int(input(\"Nhập n: \"))\n",
    "for i in range(1, n + 1):\n",
    "    print(i, end=\" \")"
   ]
  },
  {
   "cell_type": "code",
   "execution_count": 35,
   "metadata": {},
   "outputs": [
    {
     "name": "stdout",
     "output_type": "stream",
     "text": [
      "Tổng các số từ 1 đến 1 là: 1\n"
     ]
    }
   ],
   "source": [
    "n = int(input(\"Nhập n: \"))\n",
    "tong = sum(range(1, n+1))\n",
    "print(\"Tổng các số từ 1 đến\", n, \"là:\", tong)"
   ]
  },
  {
   "cell_type": "code",
   "execution_count": 36,
   "metadata": {},
   "outputs": [
    {
     "name": "stdout",
     "output_type": "stream",
     "text": [
      "z bé hơn 200\n"
     ]
    }
   ],
   "source": [
    "x =float(input(\"x: 4\"))\n",
    "y =float(input(\"y: 8\"))\n",
    "z =float(input(\"z: 10\"))\n",
    "\n",
    "if x % 2 == 0:\n",
    "    if y >= 100:\n",
    "        print(\"y lớn hơn hoặc bằng 100\")\n",
    "    else:\n",
    "        print(\"y bé hơn 100\")\n",
    "else:\n",
    "    if z >= 200:\n",
    "        print(\"z lớn hơn hoặc bằng 200\")\n",
    "    else:\n",
    "        print(\"z bé hơn 200\")"
   ]
  },
  {
   "cell_type": "code",
   "execution_count": 37,
   "metadata": {},
   "outputs": [
    {
     "name": "stdout",
     "output_type": "stream",
     "text": [
      "Danh sách: [1, 2, 3, 4, 5]\n",
      "khi thêm: [1, 2, 3, 4, 5, 6]\n",
      "khi xóa: [1, 2, 4, 5, 6]\n",
      "Số lớn nhất: 9\n",
      "Số nhỏ nhất: 2\n"
     ]
    }
   ],
   "source": [
    "my_list = [1, 2, 3, 4, 5]\n",
    "print(\"Danh sách:\", my_list)\n",
    "\n",
    "my_list.append(6)\n",
    "print(\"khi thêm:\", my_list)\n",
    "\n",
    "my_list.remove(3)\n",
    "print(\"khi xóa:\", my_list)\n",
    "\n",
    "my_list = [3, 7, 2, 9, 5]\n",
    "print(\"Số lớn nhất:\", max(my_list))\n",
    "print(\"Số nhỏ nhất:\", min(my_list))"
   ]
  },
  {
   "cell_type": "code",
   "execution_count": 38,
   "metadata": {},
   "outputs": [
    {
     "name": "stdout",
     "output_type": "stream",
     "text": [
      "Giai thừa của 2 là: 2\n"
     ]
    }
   ],
   "source": [
    "def giai_thua(n):\n",
    "    gt = 1\n",
    "    for i in range(1, n + 1):\n",
    "        gt *= i\n",
    "    return gt\n",
    "\n",
    "n =int(input(\"n:5 \"))\n",
    "print(f\"Giai thừa của {n} là: {giai_thua(n)}\")\n"
   ]
  },
  {
   "cell_type": "code",
   "execution_count": 39,
   "metadata": {},
   "outputs": [],
   "source": [
    "def is_prime(n):\n",
    "    if n < 2:\n",
    "        return False\n",
    "    for i in range(2, n):\n",
    "        if n % i == 0:\n",
    "            return False\n",
    "    return True"
   ]
  },
  {
   "cell_type": "code",
   "execution_count": 40,
   "metadata": {},
   "outputs": [
    {
     "name": "stdout",
     "output_type": "stream",
     "text": [
      "2 là số nguyên tố: True\n"
     ]
    }
   ],
   "source": [
    "num =int(input(\"Nhập số: \"))\n",
    "print(f\"{num} là số nguyên tố: {is_prime(num)}\")"
   ]
  },
  {
   "cell_type": "code",
   "execution_count": 41,
   "metadata": {},
   "outputs": [
    {
     "name": "stdout",
     "output_type": "stream",
     "text": [
      "2 là số chính phương: False\n"
     ]
    }
   ],
   "source": [
    "import math\n",
    "\n",
    "def is_perfect_square(num):\n",
    "    root = int(math.sqrt(num))\n",
    "    return root * root == num\n",
    "\n",
    "num = int(input(\"Nhập số: \"))\n",
    "print(f\"{num} là số chính phương:\", is_perfect_square(num))"
   ]
  },
  {
   "cell_type": "code",
   "execution_count": 1,
   "metadata": {},
   "outputs": [
    {
     "ename": "ModuleNotFoundError",
     "evalue": "No module named 'sympy'",
     "output_type": "error",
     "traceback": [
      "\u001b[1;31m---------------------------------------------------------------------------\u001b[0m",
      "\u001b[1;31mModuleNotFoundError\u001b[0m                       Traceback (most recent call last)",
      "Cell \u001b[1;32mIn[1], line 1\u001b[0m\n\u001b[1;32m----> 1\u001b[0m \u001b[38;5;28;01mfrom\u001b[39;00m \u001b[38;5;21;01msympy\u001b[39;00m \u001b[38;5;28;01mimport\u001b[39;00m symbols\n\u001b[0;32m      2\u001b[0m \u001b[38;5;28;01mfrom\u001b[39;00m \u001b[38;5;21;01msympy\u001b[39;00m\u001b[38;5;21;01m.\u001b[39;00m\u001b[38;5;21;01mpolys\u001b[39;00m\u001b[38;5;21;01m.\u001b[39;00m\u001b[38;5;21;01mpolyroots\u001b[39;00m \u001b[38;5;28;01mimport\u001b[39;00m nroots\n\u001b[0;32m      4\u001b[0m \u001b[38;5;66;03m# Khai báo biến và yêu cầu nhập liệu\u001b[39;00m\n",
      "\u001b[1;31mModuleNotFoundError\u001b[0m: No module named 'sympy'"
     ]
    }
   ],
   "source": [
    "from sympy import symbols\n",
    "from sympy.polys.polyroots import nroots\n",
    "\n",
    "# Khai báo biến và yêu cầu nhập liệu\n",
    "x = symbols('x')\n",
    "a, b, c, d = map(float, input(\"Nhập các hệ số a, b, c, d cách nhau bằng dấu cách: \").split())\n",
    "\n",
    "# Tạo phương trình và tìm nghiệm\n",
    "equation = a * x**3 + b * x**2 + c * x + d\n",
    "roots = nroots(equation)\n",
    "\n",
    "# In nghiệm\n",
    "print(\"Nghiệm của phương trình:\")\n",
    "for root in roots:\n",
    "    print(root)\n",
    "\n"
   ]
  },
  {
   "cell_type": "code",
   "execution_count": 72,
   "metadata": {},
   "outputs": [
    {
     "name": "stdout",
     "output_type": "stream",
     "text": [
      "Độ dài cạnh huyền: 2.8284271247461903\n"
     ]
    }
   ],
   "source": [
    "def pythagoras(a, b):\n",
    "    return (a**2 + b**2)**0.5\n",
    "\n",
    "a = float(input(\"cạnh a:2\"))\n",
    "b = float(input(\"cạnh b:4 \"))\n",
    "print(\"Độ dài cạnh huyền:\", pythagoras(a, b))"
   ]
  },
  {
   "cell_type": "code",
   "execution_count": 73,
   "metadata": {},
   "outputs": [
    {
     "name": "stdout",
     "output_type": "stream",
     "text": [
      "Số lượng từ trong câu: 4\n"
     ]
    }
   ],
   "source": [
    "sentence = input(\"câu:em yêu mẹ em \")\n",
    "words = sentence.split()\n",
    "print(\"Số lượng từ trong câu:\", len(words))"
   ]
  },
  {
   "cell_type": "code",
   "execution_count": 75,
   "metadata": {},
   "outputs": [
    {
     "name": "stdout",
     "output_type": "stream",
     "text": [
      "Chuỗi đảo ngược: na\n"
     ]
    }
   ],
   "source": [
    "string = input(\"chuỗi:vanlang \")\n",
    "print(\"Chuỗi đảo ngược:\", string[::-1])"
   ]
  },
  {
   "cell_type": "code",
   "execution_count": 76,
   "metadata": {},
   "outputs": [
    {
     "name": "stdout",
     "output_type": "stream",
     "text": [
      "nội dung file: file.\n"
     ]
    }
   ],
   "source": [
    "with open(\"example.txt\", \"w\") as f:\n",
    "    f.write(\"file.\")\n",
    "\n",
    "with open(\"example.txt\", \"r\") as f:\n",
    "    print(\"nội dung file:\", f.read())"
   ]
  },
  {
   "cell_type": "code",
   "execution_count": 79,
   "metadata": {},
   "outputs": [
    {
     "name": "stdout",
     "output_type": "stream",
     "text": [
      "lỗi xảy ra: 'charmap' codec can't encode character '\\u0111' in position 6: character maps to <undefined>\n"
     ]
    }
   ],
   "source": [
    "try:\n",
    "    with open(\"example.txt\", \"w\") as f:\n",
    "        f.write(\"nhanh đi\")\n",
    "\n",
    "    with open(\"example.txt\", \"r\") as f:\n",
    "        print(\"nội dung file: trả tao 2tr5\", f.read())\n",
    "except Exception as e:\n",
    "    print(\"lỗi xảy ra:\", e)\n"
   ]
  },
  {
   "cell_type": "code",
   "execution_count": 80,
   "metadata": {},
   "outputs": [
    {
     "name": "stdout",
     "output_type": "stream",
     "text": [
      "số lượng từ trong file: 0\n"
     ]
    }
   ],
   "source": [
    "try:\n",
    "    with open(\"example.txt\", \"r\") as f:\n",
    "        content = f.read()\n",
    "        words = content.split()\n",
    "        print(\"số lượng từ trong file:\", len(words))\n",
    "except FileNotFoundError:\n",
    "    print(\"file không tồn tại\")\n"
   ]
  }
 ],
 "metadata": {
  "kernelspec": {
   "display_name": "Python 3",
   "language": "python",
   "name": "python3"
  },
  "language_info": {
   "codemirror_mode": {
    "name": "ipython",
    "version": 3
   },
   "file_extension": ".py",
   "mimetype": "text/x-python",
   "name": "python",
   "nbconvert_exporter": "python",
   "pygments_lexer": "ipython3",
   "version": "3.8.5"
  }
 },
 "nbformat": 4,
 "nbformat_minor": 2
}
